{
 "cells": [
  {
   "cell_type": "code",
   "execution_count": 1,
   "metadata": {},
   "outputs": [],
   "source": [
    "import pandas as pd\n",
    "import re\n",
    "from datetime import datetime\n",
    "from feature_eng import *"
   ]
  },
  {
   "cell_type": "code",
   "execution_count": 2,
   "metadata": {},
   "outputs": [
    {
     "name": "stdout",
     "output_type": "stream",
     "text": [
      "\n",
      "Test case 1: 20170912 PR(P);20161108 GE(P);20160913 PR(P);20160628 PR(P)\n",
      "Parsed 4 events:\n",
      "  {'year': 2017, 'election_name': 'Primary Election', 'vote_method': 'P', 'vote_method_desc': 'Election Day Poll Site', 'is_general': False, 'is_local_only': False, 'is_primary': True}\n",
      "  {'year': 2016, 'election_name': 'General Election', 'vote_method': 'P', 'vote_method_desc': 'Election Day Poll Site', 'is_general': True, 'is_local_only': False, 'is_primary': False}\n",
      "  {'year': 2016, 'election_name': 'Primary Election', 'vote_method': 'P', 'vote_method_desc': 'Election Day Poll Site', 'is_general': False, 'is_local_only': False, 'is_primary': True}\n",
      "  {'year': 2016, 'election_name': 'Primary Election', 'vote_method': 'P', 'vote_method_desc': 'Election Day Poll Site', 'is_general': False, 'is_local_only': False, 'is_primary': True}\n",
      "\n",
      "Test case 2: GE 20241105(M);GE 20201103(A);PP 20200623(A)\n",
      "Parsed 3 events:\n",
      "  {'year': 2024, 'election_name': 'General Election', 'vote_method': 'M', 'vote_method_desc': 'Early Mail Voting', 'is_general': True, 'is_local_only': False, 'is_primary': False}\n",
      "  {'year': 2020, 'election_name': 'General Election', 'vote_method': 'A', 'vote_method_desc': 'Absentee', 'is_general': True, 'is_local_only': False, 'is_primary': False}\n",
      "  {'year': 2020, 'election_name': 'Presidential Primary', 'vote_method': 'A', 'vote_method_desc': 'Absentee', 'is_general': False, 'is_local_only': False, 'is_primary': True}\n",
      "\n",
      "Test case 3: GE 20241105(M);GE 20201103(A);20181106 GE(P);20161108 GE(A);20081104 GE(P);2004 GENERAL ELECTION(P)\n",
      "Parsed 6 events:\n",
      "  {'year': 2024, 'election_name': 'General Election', 'vote_method': 'M', 'vote_method_desc': 'Early Mail Voting', 'is_general': True, 'is_local_only': False, 'is_primary': False}\n",
      "  {'year': 2020, 'election_name': 'General Election', 'vote_method': 'A', 'vote_method_desc': 'Absentee', 'is_general': True, 'is_local_only': False, 'is_primary': False}\n",
      "  {'year': 2018, 'election_name': 'General Election', 'vote_method': 'P', 'vote_method_desc': 'Election Day Poll Site', 'is_general': True, 'is_local_only': False, 'is_primary': False}\n",
      "  {'year': 2016, 'election_name': 'General Election', 'vote_method': 'A', 'vote_method_desc': 'Absentee', 'is_general': True, 'is_local_only': False, 'is_primary': False}\n",
      "  {'year': 2008, 'election_name': 'General Election', 'vote_method': 'P', 'vote_method_desc': 'Election Day Poll Site', 'is_general': True, 'is_local_only': False, 'is_primary': False}\n",
      "  {'year': 2004, 'election_name': 'GENERAL ELECTION', 'vote_method': 'P', 'vote_method_desc': 'Election Day Poll Site', 'is_general': False, 'is_local_only': False, 'is_primary': False}\n",
      "\n",
      "Test case 4: 2004 GENERAL ELECTION(P);2008 PRIMARY ELECTION(A)\n",
      "Parsed 2 events:\n",
      "  {'year': 2008, 'election_name': 'PRIMARY ELECTION', 'vote_method': 'A', 'vote_method_desc': 'Absentee', 'is_general': False, 'is_local_only': False, 'is_primary': False}\n",
      "  {'year': 2004, 'election_name': 'GENERAL ELECTION', 'vote_method': 'P', 'vote_method_desc': 'Election Day Poll Site', 'is_general': False, 'is_local_only': False, 'is_primary': False}\n",
      "\n",
      "Test case 5: \n",
      "Parsed 0 events:\n",
      "\n",
      "Test case 6: INVALID FORMAT\n",
      "Parsed 0 events:\n"
     ]
    },
    {
     "data": {
      "text/plain": [
       "'Testing complete'"
      ]
     },
     "execution_count": 2,
     "metadata": {},
     "output_type": "execute_result"
    }
   ],
   "source": [
    "def test_parse_voter_history():\n",
    "    test_cases = [\n",
    "        # Original format\n",
    "        \"20170912 PR(P);20161108 GE(P);20160913 PR(P);20160628 PR(P)\",\n",
    "        # New format with election type first\n",
    "        \"GE 20241105(M);GE 20201103(A);PP 20200623(A)\",\n",
    "        # Mixed format\n",
    "        \"GE 20241105(M);GE 20201103(A);20181106 GE(P);20161108 GE(A);20081104 GE(P);2004 GENERAL ELECTION(P)\",\n",
    "        # Year + full election name format\n",
    "        \"2004 GENERAL ELECTION(P);2008 PRIMARY ELECTION(A)\",\n",
    "        # Edge cases\n",
    "        \"\",  # Empty string\n",
    "        \"INVALID FORMAT\",  # Invalid format\n",
    "    ]\n",
    "    \n",
    "    for i, test_case in enumerate(test_cases):\n",
    "        print(f\"\\nTest case {i+1}: {test_case}\")\n",
    "        result = parse_voter_history(test_case)\n",
    "        print(f\"Parsed {len(result)} events:\")\n",
    "        for event in result:\n",
    "            print(f\"  {event}\")\n",
    "    \n",
    "    return \"Testing complete\"\n",
    "\n",
    "\n",
    "test_parse_voter_history()"
   ]
  },
  {
   "cell_type": "code",
   "execution_count": null,
   "metadata": {},
   "outputs": [],
   "source": []
  }
 ],
 "metadata": {
  "interpreter": {
   "hash": "cac03b58fac2b1fdfb9b8cd742f5958443ccb47a49c632dcd347261c712a63c4"
  },
  "kernelspec": {
   "display_name": "Python 3.8.8 64-bit ('base': conda)",
   "language": "python",
   "name": "python3"
  },
  "language_info": {
   "codemirror_mode": {
    "name": "ipython",
    "version": 3
   },
   "file_extension": ".py",
   "mimetype": "text/x-python",
   "name": "python",
   "nbconvert_exporter": "python",
   "pygments_lexer": "ipython3",
   "version": "3.8.8"
  },
  "orig_nbformat": 4
 },
 "nbformat": 4,
 "nbformat_minor": 2
}
